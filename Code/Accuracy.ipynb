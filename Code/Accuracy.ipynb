{
 "cells": [
  {
   "cell_type": "code",
   "execution_count": 30,
   "metadata": {},
   "outputs": [],
   "source": [
    "import os\n",
    "import numpy as np\n",
    "import pandas as pd\n",
    "import matplotlib.pyplot as plt\n",
    "import seaborn as sns\n",
    "from sklearn.cluster import KMeans\n",
    "from sklearn.preprocessing import StandardScaler\n",
    "from sklearn.pipeline import Pipeline\n",
    "from sklearn.decomposition import PCA\n",
    "from sklearn.metrics import silhouette_score, calinski_harabasz_score, davies_bouldin_score\n",
    "import warnings\n",
    "\n",
    "warnings.filterwarnings(\"ignore\")\n",
    "\n",
    "# Load the data\n",
    "data = pd.read_csv(\"Data/data.csv\")\n",
    "\n",
    "# Clustering pipeline for song data\n",
    "song_cluster_pipeline = Pipeline([\n",
    "    ('scaler', StandardScaler()),\n",
    "    ('kmeans', KMeans(n_clusters=19, verbose=False, n_init='auto', random_state=42))\n",
    "])\n",
    "\n",
    "# Select numerical features\n",
    "X_song = data.select_dtypes(np.number)\n",
    "\n",
    "# Fit and predict clusters\n",
    "song_cluster_pipeline.fit(X_song)\n",
    "song_cluster_labels = song_cluster_pipeline.predict(X_song)\n",
    "data['cluster_label'] = song_cluster_labels"
   ]
  },
  {
   "cell_type": "code",
   "execution_count": 31,
   "metadata": {},
   "outputs": [
    {
     "name": "stdout",
     "output_type": "stream",
     "text": [
      "\n",
      "Clustering Evaluation Metrics:\n",
      "Silhouette Score: -0.225\n",
      "Calinski-Harabasz Score: 6343.014\n",
      "Davies-Bouldin Score: 83.138\n"
     ]
    }
   ],
   "source": [
    "# 1. Calculate Internal Validation Metrics\n",
    "silhouette_avg = silhouette_score(X_song, song_cluster_labels)\n",
    "ch_score = calinski_harabasz_score(X_song, song_cluster_labels)\n",
    "db_score = davies_bouldin_score(X_song, song_cluster_labels)\n",
    "\n",
    "print(\"\\nClustering Evaluation Metrics:\")\n",
    "print(f\"Silhouette Score: {silhouette_avg:.3f}\")\n",
    "print(f\"Calinski-Harabasz Score: {ch_score:.3f}\")\n",
    "print(f\"Davies-Bouldin Score: {db_score:.3f}\")\n"
   ]
  },
  {
   "cell_type": "code",
   "execution_count": 17,
   "metadata": {},
   "outputs": [
    {
     "name": "stdout",
     "output_type": "stream",
     "text": [
      "\n",
      "Cluster Size Distribution:\n",
      "cluster_label\n",
      "0      3048\n",
      "1      7101\n",
      "2     10876\n",
      "3     10536\n",
      "4      6766\n",
      "5      7117\n",
      "6     10369\n",
      "7     11167\n",
      "8      4519\n",
      "9      9898\n",
      "10    12898\n",
      "11    13512\n",
      "12     5017\n",
      "13     7168\n",
      "14     2659\n",
      "15     2555\n",
      "16      169\n",
      "17     9819\n",
      "18     5794\n",
      "19    13119\n",
      "20     6264\n",
      "21    10282\n",
      "Name: count, dtype: int64\n"
     ]
    }
   ],
   "source": [
    "# 3. Cluster Size Distribution\n",
    "cluster_sizes = data['cluster_label'].value_counts().sort_index()\n",
    "print(\"\\nCluster Size Distribution:\")\n",
    "print(cluster_sizes)"
   ]
  },
  {
   "cell_type": "code",
   "execution_count": 18,
   "metadata": {},
   "outputs": [
    {
     "name": "stdout",
     "output_type": "stream",
     "text": [
      "\n",
      "Cluster Statistics:\n",
      "\n",
      "Mean values of features for each cluster:\n",
      "               valence     year  acousticness  danceability  duration_ms  \\\n",
      "cluster_label                                                              \n",
      "0                 0.22  1957.28          0.81          0.32    690466.06   \n",
      "1                 0.66  1972.82          0.56          0.44    200847.92   \n",
      "2                 0.26  1954.91          0.90          0.35    204000.42   \n",
      "3                 0.65  1946.45          0.90          0.53    182952.15   \n",
      "4                 0.50  2007.41          0.15          0.67    227447.30   \n",
      "5                 0.53  1978.08          0.41          0.48    262363.54   \n",
      "6                 0.59  2003.09          0.14          0.60    230725.31   \n",
      "7                 0.79  1979.74          0.36          0.67    211049.32   \n",
      "8                 0.26  1954.84          0.89          0.38    209355.22   \n",
      "9                 0.17  1965.11          0.91          0.31    226864.08   \n",
      "10                0.70  1948.47          0.85          0.61    175846.07   \n",
      "11                0.75  1989.30          0.23          0.66    225122.54   \n",
      "12                0.51  2008.66          0.17          0.68    231878.41   \n",
      "13                0.43  1998.37          0.07          0.46    249385.40   \n",
      "14                0.50  1943.15          0.67          0.66    204845.28   \n",
      "15                0.56  1939.32          0.37          0.69    120092.14   \n",
      "16                0.30  1962.47          0.76          0.37   2213652.99   \n",
      "17                0.38  1994.76          0.08          0.41    258697.80   \n",
      "18                0.37  1988.48          0.52          0.52    262705.26   \n",
      "19                0.34  1989.56          0.62          0.51    237617.46   \n",
      "20                0.70  1950.07          0.82          0.59    191051.02   \n",
      "21                0.76  1992.59          0.20          0.71    245601.47   \n",
      "\n",
      "               energy  explicit  instrumentalness   key  liveness  loudness  \\\n",
      "cluster_label                                                                 \n",
      "0                0.25      0.00              0.59  4.94      0.20    -16.93   \n",
      "1                0.47      0.00              0.06  5.32      0.18    -11.07   \n",
      "2                0.18      0.00              0.05  5.20      0.19    -16.02   \n",
      "3                0.32      0.00              0.83  5.18      0.19    -14.70   \n",
      "4                0.69      1.00              0.03  4.61      0.21     -6.73   \n",
      "5                0.63      0.01              0.12  5.14      0.77    -10.09   \n",
      "6                0.76      0.00              0.04  7.92      0.17     -6.09   \n",
      "7                0.58      0.00              0.05  7.96      0.15    -10.23   \n",
      "8                0.18      0.00              0.09  5.28      0.20    -16.50   \n",
      "9                0.12      0.00              0.85  4.86      0.15    -22.22   \n",
      "10               0.34      0.00              0.04  4.70      0.20    -11.96   \n",
      "11               0.67      0.00              0.05  1.41      0.16     -8.47   \n",
      "12               0.68      1.00              0.02  6.31      0.21     -6.71   \n",
      "13               0.81      0.00              0.11  5.81      0.20     -6.37   \n",
      "14               0.27      0.00              0.02  5.99      0.30    -19.07   \n",
      "15               0.21      1.00              0.00  4.92      0.30    -18.48   \n",
      "16               0.37      0.02              0.27  5.26      0.50    -15.21   \n",
      "17               0.78      0.00              0.14  3.71      0.19     -6.91   \n",
      "18               0.40      0.00              0.13  5.51      0.15    -11.90   \n",
      "19               0.32      0.00              0.05  4.67      0.14    -12.49   \n",
      "20               0.38      0.00              0.08  5.32      0.20    -11.59   \n",
      "21               0.67      0.00              0.07  6.56      0.15     -8.43   \n",
      "\n",
      "               mode  popularity  speechiness   tempo  \n",
      "cluster_label                                         \n",
      "0              0.70       13.38         0.05  104.94  \n",
      "1              0.93       29.51         0.07  173.86  \n",
      "2              1.00       12.77         0.05   97.38  \n",
      "3              0.72        6.57         0.07  116.24  \n",
      "4              1.00       54.31         0.19  120.02  \n",
      "5              0.77       31.50         0.09  119.96  \n",
      "6              1.00       53.04         0.06  120.58  \n",
      "7              1.00       35.02         0.06  113.36  \n",
      "8              0.00       13.11         0.05  100.65  \n",
      "9              0.69       20.67         0.05   96.36  \n",
      "10             1.00        8.57         0.08  112.05  \n",
      "11             1.00       42.54         0.06  117.11  \n",
      "12             0.00       55.50         0.20  118.87  \n",
      "13             0.00       46.79         0.08  135.27  \n",
      "14             0.64        5.25         0.87  105.31  \n",
      "15             0.65        1.32         0.92  111.30  \n",
      "16             0.70       18.14         0.20  102.21  \n",
      "17             1.00       43.82         0.07  139.31  \n",
      "18             0.00       43.70         0.05  111.57  \n",
      "19             1.00       44.29         0.04  106.96  \n",
      "20             0.00       10.10         0.08  117.24  \n",
      "21             0.00       44.89         0.07  115.43  \n"
     ]
    }
   ],
   "source": [
    "# 4. Additional Cluster Analysis\n",
    "print(\"\\nCluster Statistics:\")\n",
    "# Calculate mean values of features for each cluster\n",
    "cluster_means = data.groupby('cluster_label')[X_song.columns].mean()\n",
    "print(\"\\nMean values of features for each cluster:\")\n",
    "print(cluster_means.round(2))"
   ]
  },
  {
   "cell_type": "code",
   "execution_count": 19,
   "metadata": {},
   "outputs": [
    {
     "name": "stdout",
     "output_type": "stream",
     "text": [
      "\n",
      "Feature Importance:\n",
      "                  Importance\n",
      "duration_ms         1.068907\n",
      "year                0.763002\n",
      "energy              0.744481\n",
      "popularity          0.741259\n",
      "acousticness        0.727763\n",
      "explicit            0.706130\n",
      "mode                0.703370\n",
      "speechiness         0.690211\n",
      "loudness            0.662405\n",
      "danceability        0.657544\n",
      "valence             0.607666\n",
      "instrumentalness    0.542602\n",
      "liveness            0.394425\n",
      "tempo               0.349136\n",
      "key                 0.231723\n"
     ]
    }
   ],
   "source": [
    "# 5. Feature Importance Analysis\n",
    "# Get the KMeans component from the pipeline\n",
    "kmeans = song_cluster_pipeline.named_steps['kmeans']\n",
    "scaler = song_cluster_pipeline.named_steps['scaler']\n",
    "\n",
    "# Calculate the relative importance of features\n",
    "feature_importance = np.abs(kmeans.cluster_centers_).mean(axis=0)\n",
    "feature_importance = pd.DataFrame(\n",
    "    feature_importance,\n",
    "    columns=['Importance'],\n",
    "    index=X_song.columns\n",
    ")\n",
    "feature_importance = feature_importance.sort_values('Importance', ascending=False)\n",
    "\n",
    "print(\"\\nFeature Importance:\")\n",
    "print(feature_importance)\n"
   ]
  }
 ],
 "metadata": {
  "kernelspec": {
   "display_name": "aienv",
   "language": "python",
   "name": "python3"
  },
  "language_info": {
   "codemirror_mode": {
    "name": "ipython",
    "version": 3
   },
   "file_extension": ".py",
   "mimetype": "text/x-python",
   "name": "python",
   "nbconvert_exporter": "python",
   "pygments_lexer": "ipython3",
   "version": "3.8.18"
  }
 },
 "nbformat": 4,
 "nbformat_minor": 2
}
